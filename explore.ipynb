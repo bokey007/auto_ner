{
 "cells": [
  {
   "cell_type": "markdown",
   "metadata": {},
   "source": [
    "### 1. Create the baseline"
   ]
  },
  {
   "cell_type": "code",
   "execution_count": 3,
   "metadata": {},
   "outputs": [],
   "source": [
    "import spacy\n",
    "\n",
    "class autoner():\n",
    "    def __init__():\n",
    "        pass\n",
    "    def dataset():\n",
    "        pass\n",
    "    def train():\n",
    "        nlp = spacy.load(\"en_core_web_lg\")\n",
    "\n",
    "        from spacy.tokens import DocBin\n",
    "        from tqdm import tqdm\n",
    "\n",
    "        nlp = spacy.blank(\"en\") # load a new spacy model\n",
    "        doc_bin = DocBin()\n",
    "\n",
    "        \n",
    "\n",
    "    def infer():\n",
    "        pass"
   ]
  },
  {
   "cell_type": "code",
   "execution_count": 1,
   "metadata": {},
   "outputs": [],
   "source": [
    "import pandas as pd\n",
    "data_path = \"/media/bokey/HDD_internal_500G1/open_source_projects/sapeint NER/ner dataset/data/ner_dataset.csv\"\n",
    "df = pd.read_csv(data_path, encoding=\"latin-1\")\n",
    "df.loc[:, \"Sentence #\"] = df[\"Sentence #\"].fillna(method=\"ffill\")"
   ]
  },
  {
   "cell_type": "code",
   "execution_count": 2,
   "metadata": {},
   "outputs": [],
   "source": [
    "sentences = df.groupby(\"Sentence #\")[\"Word\"].apply(list).values\n",
    "pos = df.groupby(\"Sentence #\")[\"POS\"].apply(list).values\n",
    "tags = df.groupby(\"Sentence #\")[\"Tag\"].apply(list).values"
   ]
  },
  {
   "cell_type": "code",
   "execution_count": 3,
   "metadata": {},
   "outputs": [
    {
     "data": {
      "text/plain": [
       "array([list(['Thousands', 'of', 'demonstrators', 'have', 'marched', 'through', 'London', 'to', 'protest', 'the', 'war', 'in', 'Iraq', 'and', 'demand', 'the', 'withdrawal', 'of', 'British', 'troops', 'from', 'that', 'country', '.']),\n",
       "       list(['Iranian', 'officials', 'say', 'they', 'expect', 'to', 'get', 'access', 'to', 'sealed', 'sensitive', 'parts', 'of', 'the', 'plant', 'Wednesday', ',', 'after', 'an', 'IAEA', 'surveillance', 'system', 'begins', 'functioning', '.']),\n",
       "       list(['Helicopter', 'gunships', 'Saturday', 'pounded', 'militant', 'hideouts', 'in', 'the', 'Orakzai', 'tribal', 'region', ',', 'where', 'many', 'Taliban', 'militants', 'are', 'believed', 'to', 'have', 'fled', 'to', 'avoid', 'an', 'earlier', 'military', 'offensive', 'in', 'nearby', 'South', 'Waziristan', '.']),\n",
       "       ...,\n",
       "       list(['Following', 'Iran', \"'s\", 'disputed', 'June', '12', 'elections', ',', 'rights', 'groups', 'said', 'hundreds', 'of', 'people', 'were', 'detained', 'in', 'clashes', 'with', 'security', 'forces', 'during', 'post-election', ',', 'anti-government', 'demonstrations', '.']),\n",
       "       list(['Since', 'then', ',', 'authorities', 'have', 'held', 'public', 'trials', 'of', 'the', 'accused', 'and', 'tried', 'to', 'marginalize', 'moderate', 'officials', 'within', 'the', 'government', '.']),\n",
       "       list(['The', 'United', 'Nations', 'is', 'praising', 'the', 'use', 'of', 'military', 'helicopters', 'to', 'drop', 'food', 'and', 'rescue', 'survivors', 'in', 'tsunami-ravaged', 'Indonesia', ',', 'saying', 'the', 'aircraft', 'are', '\"', 'worth', 'their', 'weight', 'in', 'gold', '.', '\"'])],\n",
       "      dtype=object)"
      ]
     },
     "execution_count": 3,
     "metadata": {},
     "output_type": "execute_result"
    }
   ],
   "source": [
    "sentences"
   ]
  },
  {
   "cell_type": "code",
   "execution_count": 4,
   "metadata": {},
   "outputs": [
    {
     "data": {
      "text/plain": [
       "array([list(['O', 'O', 'O', 'O', 'O', 'O', 'B-geo', 'O', 'O', 'O', 'O', 'O', 'B-geo', 'O', 'O', 'O', 'O', 'O', 'B-gpe', 'O', 'O', 'O', 'O', 'O']),\n",
       "       list(['B-gpe', 'O', 'O', 'O', 'O', 'O', 'O', 'O', 'O', 'O', 'O', 'O', 'O', 'O', 'O', 'B-tim', 'O', 'O', 'O', 'B-org', 'O', 'O', 'O', 'O', 'O']),\n",
       "       list(['O', 'O', 'B-tim', 'O', 'O', 'O', 'O', 'O', 'B-geo', 'O', 'O', 'O', 'O', 'O', 'B-org', 'O', 'O', 'O', 'O', 'O', 'O', 'O', 'O', 'O', 'O', 'O', 'O', 'O', 'O', 'B-geo', 'I-geo', 'O']),\n",
       "       ...,\n",
       "       list(['O', 'B-geo', 'O', 'O', 'B-tim', 'I-tim', 'O', 'O', 'O', 'O', 'O', 'O', 'O', 'O', 'O', 'O', 'O', 'O', 'O', 'O', 'O', 'O', 'O', 'O', 'O', 'O', 'O']),\n",
       "       list(['O', 'O', 'O', 'O', 'O', 'O', 'O', 'O', 'O', 'O', 'O', 'O', 'O', 'O', 'O', 'O', 'O', 'O', 'O', 'O', 'O']),\n",
       "       list(['O', 'B-org', 'I-org', 'O', 'O', 'O', 'O', 'O', 'O', 'O', 'O', 'O', 'O', 'O', 'O', 'O', 'O', 'B-tim', 'I-tim', 'O', 'O', 'O', 'O', 'O', 'O', 'O', 'O', 'O', 'O', 'O', 'O', 'O'])],\n",
       "      dtype=object)"
      ]
     },
     "execution_count": 4,
     "metadata": {},
     "output_type": "execute_result"
    }
   ],
   "source": [
    "tags"
   ]
  },
  {
   "cell_type": "code",
   "execution_count": 59,
   "metadata": {},
   "outputs": [],
   "source": [
    "from sklearn.model_selection import train_test_split\n",
    "\n",
    "# Split data into training, validation, and testing sets\n",
    "train_sentences, test_sentences, train_tags, test_tags = train_test_split(sentences, tag, test_size=0.2, random_state=42)\n",
    "val_sentences, test_sentences, val_tags, test_tags = train_test_split(test_sentences, test_tags, test_size=0.5, random_state=42)\n"
   ]
  },
  {
   "cell_type": "code",
   "execution_count": 68,
   "metadata": {},
   "outputs": [],
   "source": [
    "from spacy.tokens import Doc\n",
    "import spacy\n",
    "import random\n",
    "from spacy.training.example import Example\n",
    "from sklearn.model_selection import train_test_split\n",
    "\n",
    "# Split data into training, validation, and testing sets\n",
    "train_sentences, test_sentences, train_tags, test_tags = train_test_split(sentences, tag, test_size=0.2, random_state=42)\n",
    "val_sentences, test_sentences, val_tags, test_tags = train_test_split(test_sentences, test_tags, test_size=0.5, random_state=42)\n",
    "\n",
    "# Create a blank English model\n",
    "nlp = spacy.blank(\"en\")\n",
    "\n",
    "# Add the NER component to the pipeline\n",
    "ner = nlp.add_pipe(\"ner\")\n",
    "\n",
    "# Add entity labels to the ner component\n",
    "for label in set(tag for tag_list in train_tags for tag in tag_list):\n",
    "    ner.add_label(label)\n",
    "\n",
    "# Define a function to convert data to spaCy format\n",
    "def create_spacy_examples(sentences, tags):\n",
    "    examples = []\n",
    "    for sent, tag in zip(sentences, tags):\n",
    "        doc = nlp.make_doc(\" \".join(sent))\n",
    "        example = Example.from_dict(doc, {\"entities\": tag})\n",
    "        examples.append(example)\n",
    "    return examples\n",
    "\n",
    "# Create spaCy examples for training, validation, and testing\n",
    "train_examples = create_spacy_examples(train_sentences, train_tags)\n",
    "val_examples = create_spacy_examples(val_sentences, val_tags)\n",
    "test_examples = create_spacy_examples(test_sentences, test_tags)\n",
    "\n",
    "# Save examples in DocBin format\n",
    "def save_examples_to_docbin(examples, output_path):\n",
    "    doc_bin = DocBin(docs=[ex.reference for ex in examples])\n",
    "    doc_bin.to_disk(output_path)\n",
    "\n",
    "save_examples_to_docbin(train_examples, \"train.spacy\")\n",
    "save_examples_to_docbin(val_examples, \"val.spacy\")\n",
    "save_examples_to_docbin(test_examples, \"test.spacy\")"
   ]
  },
  {
   "cell_type": "code",
   "execution_count": 18,
   "metadata": {},
   "outputs": [
    {
     "name": "stdout",
     "output_type": "stream",
     "text": [
      "Experimenting with model: en_core_web_sm\n",
      "model loaded en_core_web_sm\n",
      "ner pipeline ready\n",
      "labels ready for training\n",
      "data ready\n",
      "iteration: 0\n"
     ]
    },
    {
     "name": "stderr",
     "output_type": "stream",
     "text": [
      "100%|█████████▉| 4795/4795.875 [02:51<00:00, 28.20it/s]/home/bokey/anaconda3/envs/auto_ner/lib/python3.10/site-packages/tqdm/std.py:639: TqdmWarning: clamping frac to range [0, 1]\n",
      "  full_bar = Bar(frac,\n",
      "100%|██████████| 4796/4795.875 [02:51<00:00, 27.95it/s]\n"
     ]
    },
    {
     "name": "stdout",
     "output_type": "stream",
     "text": [
      "{'tok2vec': 0.0, 'tagger': 0.0, 'parser': 0.0, 'ner': 236.5161718010049}\n",
      "iteration: 1\n"
     ]
    },
    {
     "name": "stderr",
     "output_type": "stream",
     "text": [
      "100%|██████████| 4796/4795.875 [02:52<00:00, 27.74it/s]\n"
     ]
    },
    {
     "name": "stdout",
     "output_type": "stream",
     "text": [
      "{'tok2vec': 0.0, 'tagger': 0.0, 'parser': 0.0, 'ner': 9.509120102423166e-07}\n",
      "iteration: 2\n"
     ]
    },
    {
     "name": "stderr",
     "output_type": "stream",
     "text": [
      "100%|██████████| 4796/4795.875 [02:51<00:00, 28.02it/s]\n"
     ]
    },
    {
     "name": "stdout",
     "output_type": "stream",
     "text": [
      "{'tok2vec': 0.0, 'tagger': 0.0, 'parser': 0.0, 'ner': 8.182556816701723e-09}\n"
     ]
    },
    {
     "ename": "AttributeError",
     "evalue": "'dict' object has no attribute 'scores'",
     "output_type": "error",
     "traceback": [
      "\u001b[0;31m---------------------------------------------------------------------------\u001b[0m",
      "\u001b[0;31mAttributeError\u001b[0m                            Traceback (most recent call last)",
      "\u001b[1;32m/media/bokey/HDD_internal_500G1/open_source_projects/sapeint NER/auto_ner/explore.ipynb Cell 9\u001b[0m in \u001b[0;36m<cell line: 18>\u001b[0;34m()\u001b[0m\n\u001b[1;32m     <a href='vscode-notebook-cell:/media/bokey/HDD_internal_500G1/open_source_projects/sapeint%20NER/auto_ner/explore.ipynb#X33sZmlsZQ%3D%3D?line=59'>60</a>\u001b[0m \u001b[39m# Evaluate the model on the validation set\u001b[39;00m\n\u001b[1;32m     <a href='vscode-notebook-cell:/media/bokey/HDD_internal_500G1/open_source_projects/sapeint%20NER/auto_ner/explore.ipynb#X33sZmlsZQ%3D%3D?line=60'>61</a>\u001b[0m scorer \u001b[39m=\u001b[39m nlp\u001b[39m.\u001b[39mevaluate(val_examples)\n\u001b[0;32m---> <a href='vscode-notebook-cell:/media/bokey/HDD_internal_500G1/open_source_projects/sapeint%20NER/auto_ner/explore.ipynb#X33sZmlsZQ%3D%3D?line=61'>62</a>\u001b[0m \u001b[39mprint\u001b[39m(scorer\u001b[39m.\u001b[39;49mscores)\n\u001b[1;32m     <a href='vscode-notebook-cell:/media/bokey/HDD_internal_500G1/open_source_projects/sapeint%20NER/auto_ner/explore.ipynb#X33sZmlsZQ%3D%3D?line=62'>63</a>\u001b[0m \u001b[39mbreak\u001b[39;00m\n",
      "\u001b[0;31mAttributeError\u001b[0m: 'dict' object has no attribute 'scores'"
     ]
    }
   ],
   "source": [
    "from spacy.tokens import Doc\n",
    "import spacy\n",
    "import random\n",
    "from spacy.training.example import Example\n",
    "from sklearn.model_selection import train_test_split\n",
    "from tqdm import tqdm\n",
    "# Split data into training, validation, and testing sets\n",
    "train_sentences, val_sentences, train_tags, val_tags = train_test_split(sentences, tag, test_size=0.2, random_state=42)\n",
    "\n",
    "# Define hyperparameters for training\n",
    "learning_rate = 0.001\n",
    "n_iter = 3\n",
    "dropout = 0.5\n",
    "\n",
    "# Experiment with different spaCy models\n",
    "model_names = [\"en_core_web_sm\", \"en_core_web_md\", \"en_core_web_lg\"]\n",
    "\n",
    "for model_name in model_names:\n",
    "    print(f\"Experimenting with model: {model_name}\")\n",
    "    \n",
    "    # Load the pre-trained model\n",
    "    nlp = spacy.load(model_name)\n",
    "    print(\"model loaded\", model_name)\n",
    "    # Add or modify the NER component in the pipeline\n",
    "    if \"ner\" not in nlp.pipe_names:\n",
    "        ner = nlp.add_pipe(\"ner\")\n",
    "    else:\n",
    "        ner = nlp.get_pipe(\"ner\")\n",
    "    print(\"ner pipeline ready\")\n",
    "\n",
    "    # Add entity labels to the ner component\n",
    "    for label in set(tag for tag_list in tags for tag in tag_list):\n",
    "        ner.add_label(label)\n",
    "    print(\"labels ready for training\")\n",
    "\n",
    "    # Define a function to convert data to spaCy format\n",
    "    def create_spacy_examples(sentences, tags):\n",
    "        examples = []\n",
    "        for sent, tag in zip(sentences, tags):\n",
    "            doc = nlp.make_doc(\" \".join(sent))\n",
    "            example = Example.from_dict(doc, {\"entities\": tag})\n",
    "            examples.append(example)\n",
    "        return examples\n",
    "\n",
    "    # Create spaCy examples for training\n",
    "    train_examples = create_spacy_examples(train_sentences, train_tags)\n",
    "    val_examples = create_spacy_examples(val_sentences, val_tags)\n",
    "    print(\"data ready\")\n",
    "\n",
    "    # Train the NER model using the defined hyperparameters\n",
    "    for _ in range(n_iter):\n",
    "        print(\"iteration:\", _)\n",
    "        random.shuffle(train_examples)\n",
    "        losses = {}\n",
    "        for batch in tqdm(spacy.util.minibatch(train_examples, size=8), total= len(train_examples)/8):\n",
    "            nlp.update(batch, drop=dropout, losses=losses)\n",
    "            # print(\"batch\", i)\n",
    "        print(losses)\n",
    "\n",
    "    # Evaluate the model on the validation set\n",
    "    scorer = nlp.evaluate(val_examples)\n",
    "    print(scorer.scores)\n",
    "    break"
   ]
  },
  {
   "cell_type": "code",
   "execution_count": 4,
   "metadata": {},
   "outputs": [
    {
     "name": "stdout",
     "output_type": "stream",
     "text": [
      "Experimenting with model: en_core_web_sm\n",
      "iteration: 0\n"
     ]
    },
    {
     "name": "stderr",
     "output_type": "stream",
     "text": [
      "100%|█████████▉| 3834/3836.625 [02:16<00:00, 27.27it/s]/home/bokey/anaconda3/envs/auto_ner/lib/python3.10/site-packages/tqdm/std.py:639: TqdmWarning: clamping frac to range [0, 1]\n",
      "  full_bar = Bar(frac,\n",
      "100%|██████████| 3837/3836.625 [02:16<00:00, 28.03it/s]\n"
     ]
    },
    {
     "name": "stdout",
     "output_type": "stream",
     "text": [
      "iteration: 1\n"
     ]
    },
    {
     "name": "stderr",
     "output_type": "stream",
     "text": [
      "100%|██████████| 3837/3836.625 [02:17<00:00, 27.97it/s]\n"
     ]
    },
    {
     "name": "stdout",
     "output_type": "stream",
     "text": [
      "iteration: 2\n"
     ]
    },
    {
     "name": "stderr",
     "output_type": "stream",
     "text": [
      "100%|██████████| 3837/3836.625 [02:17<00:00, 27.94it/s]\n"
     ]
    },
    {
     "name": "stdout",
     "output_type": "stream",
     "text": [
      "iteration: 3\n"
     ]
    },
    {
     "name": "stderr",
     "output_type": "stream",
     "text": [
      "100%|██████████| 3837/3836.625 [02:16<00:00, 28.14it/s]\n"
     ]
    },
    {
     "name": "stdout",
     "output_type": "stream",
     "text": [
      "iteration: 4\n"
     ]
    },
    {
     "name": "stderr",
     "output_type": "stream",
     "text": [
      "100%|██████████| 3837/3836.625 [02:17<00:00, 27.88it/s]\n"
     ]
    },
    {
     "name": "stdout",
     "output_type": "stream",
     "text": [
      "iteration: 5\n"
     ]
    },
    {
     "name": "stderr",
     "output_type": "stream",
     "text": [
      "100%|██████████| 3837/3836.625 [02:16<00:00, 28.05it/s]\n"
     ]
    },
    {
     "name": "stdout",
     "output_type": "stream",
     "text": [
      "iteration: 6\n"
     ]
    },
    {
     "name": "stderr",
     "output_type": "stream",
     "text": [
      "100%|██████████| 3837/3836.625 [02:17<00:00, 27.86it/s]\n"
     ]
    },
    {
     "name": "stdout",
     "output_type": "stream",
     "text": [
      "iteration: 7\n"
     ]
    },
    {
     "name": "stderr",
     "output_type": "stream",
     "text": [
      "100%|██████████| 3837/3836.625 [02:18<00:00, 27.79it/s]\n"
     ]
    },
    {
     "name": "stdout",
     "output_type": "stream",
     "text": [
      "iteration: 8\n"
     ]
    },
    {
     "name": "stderr",
     "output_type": "stream",
     "text": [
      "100%|██████████| 3837/3836.625 [02:18<00:00, 27.80it/s]\n"
     ]
    },
    {
     "name": "stdout",
     "output_type": "stream",
     "text": [
      "iteration: 9\n"
     ]
    },
    {
     "name": "stderr",
     "output_type": "stream",
     "text": [
      "100%|██████████| 3837/3836.625 [02:17<00:00, 27.97it/s]\n"
     ]
    },
    {
     "ename": "IndexError",
     "evalue": "too many indices for array: array is 1-dimensional, but 2 were indexed",
     "output_type": "error",
     "traceback": [
      "\u001b[0;31m---------------------------------------------------------------------------\u001b[0m",
      "\u001b[0;31mIndexError\u001b[0m                                Traceback (most recent call last)",
      "\u001b[1;32m/media/bokey/HDD_internal_500G1/open_source_projects/sapeint NER/auto_ner/explore.ipynb Cell 10\u001b[0m in \u001b[0;36m<cell line: 30>\u001b[0;34m()\u001b[0m\n\u001b[1;32m     <a href='vscode-notebook-cell:/media/bokey/HDD_internal_500G1/open_source_projects/sapeint%20NER/auto_ner/explore.ipynb#X36sZmlsZQ%3D%3D?line=78'>79</a>\u001b[0m y_true \u001b[39m=\u001b[39m np\u001b[39m.\u001b[39marray(y_true)\n\u001b[1;32m     <a href='vscode-notebook-cell:/media/bokey/HDD_internal_500G1/open_source_projects/sapeint%20NER/auto_ner/explore.ipynb#X36sZmlsZQ%3D%3D?line=79'>80</a>\u001b[0m y_pred \u001b[39m=\u001b[39m np\u001b[39m.\u001b[39marray(y_pred)\n\u001b[0;32m---> <a href='vscode-notebook-cell:/media/bokey/HDD_internal_500G1/open_source_projects/sapeint%20NER/auto_ner/explore.ipynb#X36sZmlsZQ%3D%3D?line=81'>82</a>\u001b[0m accuracy \u001b[39m=\u001b[39m accuracy_score(y_true[:, \u001b[39m2\u001b[39;49m], y_pred[:, \u001b[39m2\u001b[39m])\n\u001b[1;32m     <a href='vscode-notebook-cell:/media/bokey/HDD_internal_500G1/open_source_projects/sapeint%20NER/auto_ner/explore.ipynb#X36sZmlsZQ%3D%3D?line=82'>83</a>\u001b[0m precision \u001b[39m=\u001b[39m precision_score(y_true[:, \u001b[39m2\u001b[39m], y_pred[:, \u001b[39m2\u001b[39m], average\u001b[39m=\u001b[39m\u001b[39m\"\u001b[39m\u001b[39mweighted\u001b[39m\u001b[39m\"\u001b[39m)\n\u001b[1;32m     <a href='vscode-notebook-cell:/media/bokey/HDD_internal_500G1/open_source_projects/sapeint%20NER/auto_ner/explore.ipynb#X36sZmlsZQ%3D%3D?line=83'>84</a>\u001b[0m recall \u001b[39m=\u001b[39m recall_score(y_true[:, \u001b[39m2\u001b[39m], y_pred[:, \u001b[39m2\u001b[39m], average\u001b[39m=\u001b[39m\u001b[39m\"\u001b[39m\u001b[39mweighted\u001b[39m\u001b[39m\"\u001b[39m)\n",
      "\u001b[0;31mIndexError\u001b[0m: too many indices for array: array is 1-dimensional, but 2 were indexed"
     ]
    }
   ],
   "source": [
    "import spacy\n",
    "import random\n",
    "from spacy.training.example import Example\n",
    "from sklearn.model_selection import train_test_split\n",
    "from sklearn.metrics import accuracy_score, precision_score, recall_score, f1_score, precision_recall_curve, confusion_matrix\n",
    "import numpy as np\n",
    "import matplotlib.pyplot as plt\n",
    "from tqdm import tqdm\n",
    "\n",
    "# Assuming you have the 'sentences' and 'tags' lists\n",
    "\n",
    "# Split data into training, validation, and test sets\n",
    "train_sentences, test_sentences, train_tags, test_tags = train_test_split(sentences, tags, test_size=0.2, random_state=42)\n",
    "train_sentences, val_sentences, train_tags, val_tags = train_test_split(train_sentences, train_tags, test_size=0.2, random_state=42)\n",
    "\n",
    "# Define hyperparameters for training\n",
    "learning_rate = 0.0001\n",
    "n_iter = 10\n",
    "dropout = 0.5\n",
    "\n",
    "# Experiment with different spaCy models\n",
    "model_names = [\"en_core_web_sm\", \"en_core_web_md\", \"en_core_web_lg\"]\n",
    "\n",
    "# Lists to store evaluation metrics\n",
    "accuracy_scores = []\n",
    "precision_scores = []\n",
    "recall_scores = []\n",
    "f1_scores = []\n",
    "\n",
    "for model_name in model_names:\n",
    "    print(f\"Experimenting with model: {model_name}\")\n",
    "    \n",
    "    # Load the pre-trained model\n",
    "    nlp = spacy.load(model_name)\n",
    "\n",
    "    # Add or modify the NER component in the pipeline\n",
    "    if \"ner\" not in nlp.pipe_names:\n",
    "        ner = nlp.add_pipe(\"ner\")\n",
    "    else:\n",
    "        ner = nlp.get_pipe(\"ner\")\n",
    "\n",
    "    # Add entity labels to the ner component\n",
    "    for label in set(tag for tag_list in tags for tag in tag_list):\n",
    "        ner.add_label(label)\n",
    "\n",
    "    # Create spaCy examples for training\n",
    "    train_examples = [Example.from_dict(nlp.make_doc(\" \".join(sent)), {\"entities\": tag}) for sent, tag in zip(train_sentences, train_tags)]\n",
    "    val_examples = [Example.from_dict(nlp.make_doc(\" \".join(sent)), {\"entities\": tag}) for sent, tag in zip(val_sentences, val_tags)]\n",
    "    test_examples = [Example.from_dict(nlp.make_doc(\" \".join(sent)), {\"entities\": tag}) for sent, tag in zip(test_sentences, test_tags)]\n",
    "\n",
    "    # Lists to store learning curve data\n",
    "    train_losses = []\n",
    "    val_EVAL_scores = []\n",
    "\n",
    "    # Train the NER model\n",
    "    for epoch in range(n_iter):\n",
    "        print(\"iteration:\", epoch)\n",
    "        random.shuffle(train_examples)\n",
    "        losses = {}\n",
    "        for batch in tqdm(spacy.util.minibatch(train_examples, size=8), total = len(train_examples)/8):\n",
    "            nlp.update(batch, drop=dropout, losses=losses)\n",
    "        train_losses.append(losses[\"ner\"])\n",
    "\n",
    "        # Evaluate the model on the validation set\n",
    "        with nlp.disable_pipes(\"ner\"):\n",
    "            val_EVAL = nlp.evaluate(val_examples)\n",
    "            val_EVAL_scores.append(val_EVAL)\n",
    "\n",
    "    # Calculate evaluation metrics\n",
    "    y_true = []\n",
    "    y_pred = []\n",
    "    for example in val_examples:\n",
    "        doc = example.reference\n",
    "        gold_entities = [(ent.start, ent.end, ent.label_) for ent in doc.ents]\n",
    "        y_true.extend(gold_entities)\n",
    "        pred_entities = [(ent.start, ent.end, ent.label_) for ent in nlp(doc.text).ents]\n",
    "        y_pred.extend(pred_entities)\n",
    "    \n",
    "    y_true = np.array(y_true)\n",
    "    y_pred = np.array(y_pred)\n",
    "    \n",
    "    accuracy = accuracy_score(y_true[:, 2], y_pred[:, 2])\n",
    "    precision = precision_score(y_true[:, 2], y_pred[:, 2], average=\"weighted\")\n",
    "    recall = recall_score(y_true[:, 2], y_pred[:, 2], average=\"weighted\")\n",
    "    f1 = f1_score(y_true[:, 2], y_pred[:, 2], average=\"weighted\")\n",
    "\n",
    "    # Append scores to lists\n",
    "    accuracy_scores.append(accuracy)\n",
    "    precision_scores.append(precision)\n",
    "    recall_scores.append(recall)\n",
    "    f1_scores.append(f1)\n",
    "\n",
    "    # Plot learning curve\n",
    "    plt.figure(figsize=(12, 4))\n",
    "    \n",
    "    plt.subplot(1, 3, 1)\n",
    "    plt.plot(range(n_iter), train_losses, label=\"Training Loss\")\n",
    "    plt.xlabel(\"Epoch\")\n",
    "    plt.ylabel(\"Loss\")\n",
    "    plt.title(f\"Learning Curve for Model: {model_name}\")\n",
    "    plt.legend()\n",
    "\n",
    "    # Plot F1-score curve\n",
    "    plt.subplot(1, 3, 2)\n",
    "    plt.plot(range(n_iter), val_f1_scores, label=\"Validation F1-score\")\n",
    "    plt.xlabel(\"Epoch\")\n",
    "    plt.ylabel(\"F1-score\")\n",
    "    plt.title(f\"F1-score Curve for Model: {model_name}\")\n",
    "    plt.legend()\n",
    "\n",
    "    # Create Confusion Matrix\n",
    "    plt.subplot(1, 3, 3)\n",
    "    labels = ['B-geo', 'I-geo', 'B-org', 'I-org', 'B-gpe', 'I-gpe', 'B-tim', 'I-tim']\n",
    "    conf_mat = confusion_matrix(y_true[:, 2], y_pred[:, 2], labels=labels)\n",
    "    plt.imshow(conf_mat, interpolation='nearest', cmap=plt.cm.Blues)\n",
    "    plt.title('Confusion Matrix')\n",
    "    plt.colorbar()\n",
    "    plt.xticks(np.arange(len(labels)), labels, rotation=45)\n",
    "    plt.yticks(np.arange(len(labels)), labels)\n",
    "    plt.tight_layout()\n",
    "\n",
    "    plt.show()\n",
    "\n",
    "# Print evaluation metrics\n",
    "for model_name, accuracy, precision, recall, f1 in zip(model_names, accuracy_scores, precision_scores, recall_scores, f1_scores):\n",
    "    print(f\"Model: {model_name}\")\n",
    "    print(f\"Accuracy: {accuracy:.4f}\")\n",
    "    print(f\"Precision: {precision:.4f}\")\n",
    "    print(f\"Recall: {recall:.4f}\")\n",
    "    print(f\"F1-Score: {f1:.4f}\")\n",
    "    print()\n"
   ]
  },
  {
   "cell_type": "code",
   "execution_count": 34,
   "metadata": {},
   "outputs": [
    {
     "data": {
      "text/plain": [
       "array([list(['B-geo', 'O', 'O', 'O', 'O', 'O', 'O', 'O', 'O', 'O', 'O', 'O', 'O', 'B-geo', 'I-geo', 'O', 'B-tim', 'O', 'O', 'O', 'O', 'B-org', 'I-org', 'I-org', 'O', 'O']),\n",
       "       list(['O', 'O', 'O', 'O', 'O', 'O', 'O', 'O', 'O', 'O', 'O', 'O', 'O', 'O', 'O', 'O', 'O', 'O', 'O', 'O']),\n",
       "       list(['O', 'O', 'O', 'O', 'O', 'O', 'O', 'O', 'O', 'O', 'O', 'O', 'O', 'O', 'O', 'B-org', 'O', 'O', 'B-per', 'O', 'O', 'O', 'O', 'O', 'O']),\n",
       "       ...,\n",
       "       list(['O', 'O', 'O', 'O', 'O', 'O', 'O', 'O', 'O', 'O', 'O', 'O']),\n",
       "       list(['O', 'O', 'B-org', 'O', 'O', 'B-geo', 'O', 'O', 'O', 'O', 'O', 'O', 'B-geo', 'O', 'O', 'O', 'O', 'O', 'O', 'O', 'O', 'O', 'O', 'O', 'O', 'B-gpe', 'O', 'O']),\n",
       "       list(['B-per', 'I-per', 'O', 'O', 'O', 'O', 'O', 'O', 'O', 'O', 'O', 'O', 'O', 'O', 'O', 'O', 'O', 'O', 'O'])],\n",
       "      dtype=object)"
      ]
     },
     "execution_count": 34,
     "metadata": {},
     "output_type": "execute_result"
    }
   ],
   "source": [
    "train_tags"
   ]
  },
  {
   "cell_type": "markdown",
   "metadata": {},
   "source": []
  },
  {
   "cell_type": "code",
   "execution_count": 30,
   "metadata": {},
   "outputs": [
    {
     "name": "stdout",
     "output_type": "stream",
     "text": [
      "Adam sander moved to London\n"
     ]
    }
   ],
   "source": [
    "doc = nlp(\"Adam sander moved to London\")\n",
    "for ent in doc.ents:\n",
    "    print(ent.text, ent.start_char, ent.end_char, ent.label_)\n",
    "\n",
    "print(doc)"
   ]
  },
  {
   "cell_type": "code",
   "execution_count": 26,
   "metadata": {},
   "outputs": [
    {
     "name": "stderr",
     "output_type": "stream",
     "text": [
      "/home/bokey/anaconda3/envs/auto_ner/lib/python3.10/site-packages/numpy/lib/function_base.py:518: RuntimeWarning: Mean of empty slice.\n",
      "  avg = a.mean(axis, **keepdims_kw)\n",
      "/home/bokey/anaconda3/envs/auto_ner/lib/python3.10/site-packages/numpy/core/_methods.py:190: RuntimeWarning: invalid value encountered in double_scalars\n",
      "  ret = ret.dtype.type(ret / rcount)\n"
     ]
    },
    {
     "data": {
      "image/png": "[encoded data removed]",
      "text/plain": [
       "<Figure size 1200x400 with 3 Axes>"
      ]
     },
     "metadata": {},
     "output_type": "display_data"
    },
    {
     "name": "stdout",
     "output_type": "stream",
     "text": [
      "Model: en_core_web_sm\n",
      "Accuracy: nan\n",
      "Precision: nan\n",
      "Recall: nan\n",
      "F1-Score: nan\n",
      "\n",
      "Model: en_core_web_md\n",
      "Accuracy: nan\n",
      "Precision: nan\n",
      "Recall: nan\n",
      "F1-Score: nan\n",
      "\n",
      "Model: en_core_web_lg\n",
      "Accuracy: nan\n",
      "Precision: nan\n",
      "Recall: nan\n",
      "F1-Score: nan\n",
      "\n"
     ]
    }
   ],
   "source": [
    "# Calculate evaluation metrics\n",
    "y_true = []\n",
    "y_pred = []\n",
    "for example in val_examples:\n",
    "    doc = example.reference\n",
    "    gold_entities = [(ent.start, ent.end, ent.label_) for ent in doc.ents]\n",
    "    y_true.extend(gold_entities)\n",
    "    pred_entities = [(ent.start, ent.end, ent.label_) for ent in nlp(doc.text).ents]\n",
    "    y_pred.extend(pred_entities)\n",
    "\n",
    "y_true = np.array(y_true)\n",
    "y_pred = np.array(y_pred)\n",
    "\n",
    "accuracy = accuracy_score(y_true, y_pred)\n",
    "precision = precision_score(y_true, y_pred, average=\"weighted\")\n",
    "recall = recall_score(y_true, y_pred, average=\"weighted\")\n",
    "f1 = f1_score(y_true, y_pred, average=\"weighted\")\n",
    "\n",
    "# Append scores to lists\n",
    "accuracy_scores.append(accuracy)\n",
    "precision_scores.append(precision)\n",
    "recall_scores.append(recall)\n",
    "f1_scores.append(f1)\n",
    "\n",
    "# Plot learning curve\n",
    "plt.figure(figsize=(12, 4))\n",
    "\n",
    "plt.subplot(1, 3, 1)\n",
    "plt.plot(range(n_iter), train_losses, label=\"Training Loss\")\n",
    "plt.xlabel(\"Epoch\")\n",
    "plt.ylabel(\"Loss\")\n",
    "plt.title(f\"Learning Curve for Model: {model_name}\")\n",
    "plt.legend()\n",
    "\n",
    "# # Plot F1-score curve\n",
    "# plt.subplot(1, 3, 2)\n",
    "# plt.plot(range(n_iter), val_EVAL_scores, label=\"Validation F1-score\")\n",
    "# plt.xlabel(\"Epoch\")\n",
    "# plt.ylabel(\"F1-score\")\n",
    "# plt.title(f\"F1-score Curve for Model: {model_name}\")\n",
    "# plt.legend()\n",
    "\n",
    "# Create Confusion Matrix\n",
    "plt.subplot(1, 3, 3)\n",
    "labels = ['B-geo', 'I-geo', 'B-org', 'I-org', 'B-gpe', 'I-gpe', 'B-tim', 'I-tim']\n",
    "conf_mat = confusion_matrix(y_true, y_pred, labels=labels)\n",
    "plt.imshow(conf_mat, interpolation='nearest', cmap=plt.cm.Blues)\n",
    "plt.title('Confusion Matrix')\n",
    "plt.colorbar()\n",
    "plt.xticks(np.arange(len(labels)), labels, rotation=45)\n",
    "plt.yticks(np.arange(len(labels)), labels)\n",
    "plt.tight_layout()\n",
    "\n",
    "plt.show()\n",
    "\n",
    "# Print evaluation metrics\n",
    "for model_name, accuracy, precision, recall, f1 in zip(model_names, accuracy_scores, precision_scores, recall_scores, f1_scores):\n",
    "    print(f\"Model: {model_name}\")\n",
    "    print(f\"Accuracy: {accuracy:.4f}\")\n",
    "    print(f\"Precision: {precision:.4f}\")\n",
    "    print(f\"Recall: {recall:.4f}\")\n",
    "    print(f\"F1-Score: {f1:.4f}\")\n",
    "    print()"
   ]
  },
  {
   "cell_type": "code",
   "execution_count": 9,
   "metadata": {},
   "outputs": [
    {
     "name": "stdout",
     "output_type": "stream",
     "text": [
      "Experimenting with model: en_core_web_sm\n"
     ]
    },
    {
     "name": "stderr",
     "output_type": "stream",
     "text": [
      "100%|█████████▉| 3836/3836.625 [02:17<00:00, 28.28it/s]/home/bokey/anaconda3/envs/auto_ner/lib/python3.10/site-packages/tqdm/std.py:639: TqdmWarning: clamping frac to range [0, 1]\n",
      "  full_bar = Bar(frac,\n",
      "100%|██████████| 3837/3836.625 [02:17<00:00, 27.98it/s]\n"
     ]
    },
    {
     "ename": "KeyError",
     "evalue": "'ents_f'",
     "output_type": "error",
     "traceback": [
      "\u001b[0;31m---------------------------------------------------------------------------\u001b[0m",
      "\u001b[0;31mKeyError\u001b[0m                                  Traceback (most recent call last)",
      "\u001b[1;32m/media/bokey/HDD_internal_500G1/open_source_projects/sapeint NER/auto_ner/explore.ipynb Cell 15\u001b[0m in \u001b[0;36m<cell line: 44>\u001b[0;34m()\u001b[0m\n\u001b[1;32m     <a href='vscode-notebook-cell:/media/bokey/HDD_internal_500G1/open_source_projects/sapeint%20NER/auto_ner/explore.ipynb#X46sZmlsZQ%3D%3D?line=76'>77</a>\u001b[0m \u001b[39m# Evaluate the model on the validation set\u001b[39;00m\n\u001b[1;32m     <a href='vscode-notebook-cell:/media/bokey/HDD_internal_500G1/open_source_projects/sapeint%20NER/auto_ner/explore.ipynb#X46sZmlsZQ%3D%3D?line=77'>78</a>\u001b[0m \u001b[39mwith\u001b[39;00m nlp\u001b[39m.\u001b[39mdisable_pipes(\u001b[39m\"\u001b[39m\u001b[39mner\u001b[39m\u001b[39m\"\u001b[39m):\n\u001b[0;32m---> <a href='vscode-notebook-cell:/media/bokey/HDD_internal_500G1/open_source_projects/sapeint%20NER/auto_ner/explore.ipynb#X46sZmlsZQ%3D%3D?line=78'>79</a>\u001b[0m     val_f1 \u001b[39m=\u001b[39m nlp\u001b[39m.\u001b[39;49mevaluate(val_examples)[\u001b[39m\"\u001b[39;49m\u001b[39ments_f\u001b[39;49m\u001b[39m\"\u001b[39;49m]\n\u001b[1;32m     <a href='vscode-notebook-cell:/media/bokey/HDD_internal_500G1/open_source_projects/sapeint%20NER/auto_ner/explore.ipynb#X46sZmlsZQ%3D%3D?line=79'>80</a>\u001b[0m     val_f1_scores\u001b[39m.\u001b[39mappend(val_f1)\n",
      "\u001b[0;31mKeyError\u001b[0m: 'ents_f'"
     ]
    }
   ],
   "source": [
    "import spacy\n",
    "import random\n",
    "from spacy.training.example import Example\n",
    "from sklearn.model_selection import train_test_split\n",
    "from sklearn.metrics import accuracy_score, precision_score, recall_score, f1_score, precision_recall_curve, confusion_matrix\n",
    "import numpy as np\n",
    "import matplotlib.pyplot as plt\n",
    "from tqdm import tqdm\n",
    "\n",
    "# Assuming you have the 'sentences' and 'tags' lists\n",
    "\n",
    "# Split data into training, validation, and test sets\n",
    "train_sentences, test_sentences, train_tags, test_tags = train_test_split(sentences, tags, test_size=0.2, random_state=42)\n",
    "train_sentences, val_sentences, train_tags, val_tags = train_test_split(train_sentences, train_tags, test_size=0.2, random_state=42)\n",
    "\n",
    "# Define hyperparameters for training\n",
    "learning_rate = 0.001\n",
    "n_iter = 10\n",
    "dropout = 0.5\n",
    "\n",
    "# Experiment with different spaCy models\n",
    "model_names = [\"en_core_web_sm\", \"en_core_web_md\", \"en_core_web_lg\"]\n",
    "\n",
    "# Lists to store evaluation metrics\n",
    "accuracy_scores = []\n",
    "precision_scores = []\n",
    "recall_scores = []\n",
    "f1_scores = []\n",
    "\n",
    "def convert_to_spacy_format(sentences, tags):\n",
    "    examples = []\n",
    "    for sent, tag_list in zip(sentences, tags):\n",
    "        doc = nlp.make_doc(\" \".join(sent))\n",
    "        entities = []\n",
    "        for tag in tag_list:\n",
    "            label = tag\n",
    "            start = 0\n",
    "            end = 0\n",
    "            entities.append((start, end, label))\n",
    "        example = Example.from_dict(doc, {\"entities\": entities})\n",
    "        examples.append(example)\n",
    "    return examples\n",
    "\n",
    "for model_name in model_names:\n",
    "    print(f\"Experimenting with model: {model_name}\")\n",
    "    \n",
    "    # Load the pre-trained model\n",
    "    nlp = spacy.load(model_name)\n",
    "\n",
    "    # Add or modify the NER component in the pipeline\n",
    "    if \"ner\" not in nlp.pipe_names:\n",
    "        ner = nlp.add_pipe(\"ner\")\n",
    "    else:\n",
    "        ner = nlp.get_pipe(\"ner\")\n",
    "\n",
    "    # Add entity labels to the ner component\n",
    "    for label in set(tag for tag_list in tags for tag in tag_list):\n",
    "        ner.add_label(label)\n",
    "\n",
    "    # Create spaCy examples for training\n",
    "    train_examples = convert_to_spacy_format(train_sentences, train_tags)\n",
    "    val_examples = convert_to_spacy_format(val_sentences, val_tags)\n",
    "    test_examples = convert_to_spacy_format(test_sentences, test_tags)\n",
    "\n",
    "    # Lists to store learning curve data\n",
    "    train_losses = []\n",
    "    val_f1_scores = []\n",
    "\n",
    "    # Train the NER model\n",
    "    for epoch in range(n_iter):\n",
    "        random.shuffle(train_examples)\n",
    "        losses = {}\n",
    "        for batch in tqdm(spacy.util.minibatch(train_examples, size=8), total = len(train_examples)/8):\n",
    "            nlp.update(batch, drop=dropout, losses=losses)\n",
    "        train_losses.append(losses[\"ner\"])\n",
    "\n",
    "        # # Evaluate the model on the validation set\n",
    "        # with nlp.disable_pipes(\"ner\"):\n",
    "        #     val_f1 = nlp.evaluate(val_examples)[\"ents_f\"]\n",
    "        #     val_f1_scores.append(val_f1)"
   ]
  },
  {
   "cell_type": "code",
   "execution_count": 14,
   "metadata": {},
   "outputs": [
    {
     "data": {
      "text/plain": [
       "()"
      ]
     },
     "execution_count": 14,
     "metadata": {},
     "output_type": "execute_result"
    }
   ],
   "source": [
    "nlp(\"I went to london\").ents"
   ]
  },
  {
   "cell_type": "code",
   "execution_count": 45,
   "metadata": {},
   "outputs": [],
   "source": [
    "# Calculate evaluation metrics\n",
    "y_true = []\n",
    "y_pred = []\n",
    "for example in val_examples:\n",
    "    doc = example.reference\n",
    "    gold_entities = [(ent.start, ent.end, ent.label_) for ent in doc.ents]\n",
    "    y_true.extend(gold_entities)\n",
    "    pred_entities = [(ent.start, ent.end, ent.label_) for ent in nlp(doc.text).ents]\n",
    "    y_pred.extend(pred_entities)"
   ]
  },
  {
   "cell_type": "code",
   "execution_count": 55,
   "metadata": {},
   "outputs": [
    {
     "ename": "IndexError",
     "evalue": "string index out of range",
     "output_type": "error",
     "traceback": [
      "\u001b[0;31m---------------------------------------------------------------------------\u001b[0m",
      "\u001b[0;31mIndexError\u001b[0m                                Traceback (most recent call last)",
      "\u001b[1;32m/media/bokey/HDD_internal_500G1/open_source_projects/sapeint NER/auto_ner/explore.ipynb Cell 13\u001b[0m in \u001b[0;36m<cell line: 4>\u001b[0;34m()\u001b[0m\n\u001b[1;32m      <a href='vscode-notebook-cell:/media/bokey/HDD_internal_500G1/open_source_projects/sapeint%20NER/auto_ner/explore.ipynb#X41sZmlsZQ%3D%3D?line=3'>4</a>\u001b[0m \u001b[39mfor\u001b[39;00m sent, tags \u001b[39min\u001b[39;00m \u001b[39mzip\u001b[39m(val_sentences, val_tags):\n\u001b[1;32m      <a href='vscode-notebook-cell:/media/bokey/HDD_internal_500G1/open_source_projects/sapeint%20NER/auto_ner/explore.ipynb#X41sZmlsZQ%3D%3D?line=4'>5</a>\u001b[0m     doc \u001b[39m=\u001b[39m nlp(\u001b[39m\"\u001b[39m\u001b[39m \u001b[39m\u001b[39m\"\u001b[39m\u001b[39m.\u001b[39mjoin(sent))\n\u001b[0;32m----> <a href='vscode-notebook-cell:/media/bokey/HDD_internal_500G1/open_source_projects/sapeint%20NER/auto_ner/explore.ipynb#X41sZmlsZQ%3D%3D?line=5'>6</a>\u001b[0m     gold_entities \u001b[39m=\u001b[39m [(ent[\u001b[39m0\u001b[39m], ent[\u001b[39m1\u001b[39m], ent[\u001b[39m2\u001b[39m]) \u001b[39mfor\u001b[39;00m ent \u001b[39min\u001b[39;00m tags]\n\u001b[1;32m      <a href='vscode-notebook-cell:/media/bokey/HDD_internal_500G1/open_source_projects/sapeint%20NER/auto_ner/explore.ipynb#X41sZmlsZQ%3D%3D?line=6'>7</a>\u001b[0m     y_true\u001b[39m.\u001b[39mextend(gold_entities)\n\u001b[1;32m      <a href='vscode-notebook-cell:/media/bokey/HDD_internal_500G1/open_source_projects/sapeint%20NER/auto_ner/explore.ipynb#X41sZmlsZQ%3D%3D?line=7'>8</a>\u001b[0m     pred_entities \u001b[39m=\u001b[39m [(ent\u001b[39m.\u001b[39mstart, ent\u001b[39m.\u001b[39mend, ent\u001b[39m.\u001b[39mlabel_) \u001b[39mfor\u001b[39;00m ent \u001b[39min\u001b[39;00m doc\u001b[39m.\u001b[39ments]\n",
      "\u001b[1;32m/media/bokey/HDD_internal_500G1/open_source_projects/sapeint NER/auto_ner/explore.ipynb Cell 13\u001b[0m in \u001b[0;36m<listcomp>\u001b[0;34m(.0)\u001b[0m\n\u001b[1;32m      <a href='vscode-notebook-cell:/media/bokey/HDD_internal_500G1/open_source_projects/sapeint%20NER/auto_ner/explore.ipynb#X41sZmlsZQ%3D%3D?line=3'>4</a>\u001b[0m \u001b[39mfor\u001b[39;00m sent, tags \u001b[39min\u001b[39;00m \u001b[39mzip\u001b[39m(val_sentences, val_tags):\n\u001b[1;32m      <a href='vscode-notebook-cell:/media/bokey/HDD_internal_500G1/open_source_projects/sapeint%20NER/auto_ner/explore.ipynb#X41sZmlsZQ%3D%3D?line=4'>5</a>\u001b[0m     doc \u001b[39m=\u001b[39m nlp(\u001b[39m\"\u001b[39m\u001b[39m \u001b[39m\u001b[39m\"\u001b[39m\u001b[39m.\u001b[39mjoin(sent))\n\u001b[0;32m----> <a href='vscode-notebook-cell:/media/bokey/HDD_internal_500G1/open_source_projects/sapeint%20NER/auto_ner/explore.ipynb#X41sZmlsZQ%3D%3D?line=5'>6</a>\u001b[0m     gold_entities \u001b[39m=\u001b[39m [(ent[\u001b[39m0\u001b[39m], ent[\u001b[39m1\u001b[39;49m], ent[\u001b[39m2\u001b[39m]) \u001b[39mfor\u001b[39;00m ent \u001b[39min\u001b[39;00m tags]\n\u001b[1;32m      <a href='vscode-notebook-cell:/media/bokey/HDD_internal_500G1/open_source_projects/sapeint%20NER/auto_ner/explore.ipynb#X41sZmlsZQ%3D%3D?line=6'>7</a>\u001b[0m     y_true\u001b[39m.\u001b[39mextend(gold_entities)\n\u001b[1;32m      <a href='vscode-notebook-cell:/media/bokey/HDD_internal_500G1/open_source_projects/sapeint%20NER/auto_ner/explore.ipynb#X41sZmlsZQ%3D%3D?line=7'>8</a>\u001b[0m     pred_entities \u001b[39m=\u001b[39m [(ent\u001b[39m.\u001b[39mstart, ent\u001b[39m.\u001b[39mend, ent\u001b[39m.\u001b[39mlabel_) \u001b[39mfor\u001b[39;00m ent \u001b[39min\u001b[39;00m doc\u001b[39m.\u001b[39ments]\n",
      "\u001b[0;31mIndexError\u001b[0m: string index out of range"
     ]
    }
   ],
   "source": [
    "# Calculate evaluation metrics\n",
    "y_true = []\n",
    "y_pred = []\n",
    "for example in val_examples:\n",
    "    doc = example.reference\n",
    "    gold_entities = [(ent.start, ent.end, ent.label_) for ent in doc.ents]\n",
    "    y_true.extend(gold_entities)\n",
    "    pred_entities = nlp(doc.text).ents\n",
    "    y_pred.extend([(ent.start, ent.end, ent.label_) for ent in pred_entities])\n",
    "\n"
   ]
  },
  {
   "cell_type": "code",
   "execution_count": 19,
   "metadata": {},
   "outputs": [
    {
     "ename": "AttributeError",
     "evalue": "'numpy.ndarray' object has no attribute 'extend'",
     "output_type": "error",
     "traceback": [
      "\u001b[0;31m---------------------------------------------------------------------------\u001b[0m",
      "\u001b[0;31mAttributeError\u001b[0m                            Traceback (most recent call last)",
      "\u001b[1;32m/media/bokey/HDD_internal_500G1/open_source_projects/sapeint NER/auto_ner/explore.ipynb Cell 15\u001b[0m in \u001b[0;36m<cell line: 1>\u001b[0;34m()\u001b[0m\n\u001b[1;32m      <a href='vscode-notebook-cell:/media/bokey/HDD_internal_500G1/open_source_projects/sapeint%20NER/auto_ner/explore.ipynb#X40sZmlsZQ%3D%3D?line=2'>3</a>\u001b[0m y_true \u001b[39m=\u001b[39m tags\n\u001b[1;32m      <a href='vscode-notebook-cell:/media/bokey/HDD_internal_500G1/open_source_projects/sapeint%20NER/auto_ner/explore.ipynb#X40sZmlsZQ%3D%3D?line=3'>4</a>\u001b[0m pred_entities \u001b[39m=\u001b[39m [(ent\u001b[39m.\u001b[39mstart, ent\u001b[39m.\u001b[39mend, ent\u001b[39m.\u001b[39mlabel_) \u001b[39mfor\u001b[39;00m ent \u001b[39min\u001b[39;00m doc\u001b[39m.\u001b[39ments]\n\u001b[0;32m----> <a href='vscode-notebook-cell:/media/bokey/HDD_internal_500G1/open_source_projects/sapeint%20NER/auto_ner/explore.ipynb#X40sZmlsZQ%3D%3D?line=4'>5</a>\u001b[0m y_pred\u001b[39m.\u001b[39;49mextend(pred_entities)\n",
      "\u001b[0;31mAttributeError\u001b[0m: 'numpy.ndarray' object has no attribute 'extend'"
     ]
    }
   ],
   "source": [
    "for sent, tags in zip(val_sentences, val_tags):\n",
    "    doc = nlp(\" \".join(sent))\n",
    "    y_true = tags\n",
    "    pred_entities = [(ent.start, ent.end, ent.label_) for ent in doc.ents]\n",
    "    y_pred.extend(pred_entities)"
   ]
  },
  {
   "cell_type": "markdown",
   "metadata": {},
   "source": [
    "2. Meet the Expectations\n",
    "    Training Bert\n",
    "        - pure reansformer \n",
    "        - sentense transformer "
   ]
  },
  {
   "cell_type": "code",
   "execution_count": null,
   "metadata": {},
   "outputs": [],
   "source": []
  },
  {
   "cell_type": "code",
   "execution_count": 47,
   "metadata": {},
   "outputs": [
    {
     "name": "stdout",
     "output_type": "stream",
     "text": [
      "(Treblinka, Poland)\n"
     ]
    }
   ],
   "source": [
    "nlp = spacy.load(\"en_core_web_sm\")\n",
    "print(nlp(\"The village of Treblinka is located in Poland\").ents)"
   ]
  },
  {
   "cell_type": "markdown",
   "metadata": {},
   "source": [
    "### 2.1. pure reansformer "
   ]
  },
  {
   "cell_type": "markdown",
   "metadata": {},
   "source": [
    "### 2.1. sentense transformer "
   ]
  },
  {
   "cell_type": "markdown",
   "metadata": {},
   "source": [
    "### 3. Exeed the expectations\n",
    "    Few shot / Zero Shot NER"
   ]
  },
  {
   "cell_type": "markdown",
   "metadata": {},
   "source": []
  }
 ],
 "metadata": {
  "kernelspec": {
   "display_name": "auto_ner",
   "language": "python",
   "name": "python3"
  },
  "language_info": {
   "codemirror_mode": {
    "name": "ipython",
    "version": 3
   },
   "file_extension": ".py",
   "mimetype": "text/x-python",
   "name": "python",
   "nbconvert_exporter": "python",
   "pygments_lexer": "ipython3",
   "version": "3.10.10"
  },
  "orig_nbformat": 4
 },
 "nbformat": 4,
 "nbformat_minor": 2
}
